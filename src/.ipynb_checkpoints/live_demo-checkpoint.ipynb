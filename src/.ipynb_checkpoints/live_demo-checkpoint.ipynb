{
 "cells": [
  {
   "cell_type": "markdown",
   "metadata": {},
   "source": []
  },
  {
   "cell_type": "code",
   "execution_count": 1,
   "metadata": {
    "collapsed": false
   },
   "outputs": [
    {
     "ename": "IndentationError",
     "evalue": "expected an indented block (recognizer_voxnet.py, line 105)",
     "output_type": "error",
     "traceback": [
      "\u001b[1;36m  File \u001b[1;32m\"recognizer_voxnet.py\"\u001b[1;36m, line \u001b[1;32m105\u001b[0m\n\u001b[1;33m    def display_label(self, label, ti = None):\u001b[0m\n\u001b[1;37m    ^\u001b[0m\n\u001b[1;31mIndentationError\u001b[0m\u001b[1;31m:\u001b[0m expected an indented block\n"
     ]
    }
   ],
   "source": [
    "from recognizer_voxnet import load_pc, detector_voxnet\n",
    "import time\n",
    "import mayavi as mlab"
   ]
  },
  {
   "cell_type": "markdown",
   "metadata": {},
   "source": []
  },
  {
   "cell_type": "code",
   "execution_count": null,
   "metadata": {
    "collapsed": true
   },
   "outputs": [],
   "source": [
    "tic = time.time()\n",
    "obj_det = detector_voxnet(\"data/weights...\")\n",
    "tictoc = time.time() - tic\n",
    "print(\"loading the Detector took {0}\".format(tictoc))"
   ]
  },
  {
   "cell_type": "markdown",
   "metadata": {},
   "source": []
  },
  {
   "cell_type": "code",
   "execution_count": null,
   "metadata": {
    "collapsed": true
   },
   "outputs": [],
   "source": [
    "np_pc = load_pc(\"data/chairXYZ.mat\")\n",
    "mlab.points3d(np_pc[:,0], np_pc[:,1], np_pc[:,2])\n",
    "mlab.show()"
   ]
  },
  {
   "cell_type": "markdown",
   "metadata": {},
   "source": []
  },
  {
   "cell_type": "code",
   "execution_count": null,
   "metadata": {
    "collapsed": true
   },
   "outputs": [],
   "source": [
    "tic = time.time()\n",
    "np_vox = voxilize(np_pc)\n",
    "tictoc = time.time() - tic\n",
    "print(\"Voxelizing took {0} for {1} points\".format(tictoc, np_pc.shape[0]))\n",
    "\n",
    "mlab.points3d(np_vox[:,0], np_vox[:,1], np_vox[:,3], mode='cube')\n",
    "mlab.show"
   ]
  },
  {
   "cell_type": "markdown",
   "metadata": {},
   "source": []
  },
  {
   "cell_type": "code",
   "execution_count": null,
   "metadata": {
    "collapsed": true
   },
   "outputs": [],
   "source": [
    "tic = time.time()\n",
    "label = obj_det.predict(X_pred=np_vox)\n",
    "tictoc = time.time() - tic\n",
    "\n",
    "print(\"Detection took {0}\".format(tictoc))\n",
    "print(\"Wuee a \" + label + \" was detected\")"
   ]
  }
 ],
 "metadata": {
  "kernelspec": {
   "display_name": "Python 2",
   "language": "python2",
   "name": "python2"
  },
  "language_info": {
   "codemirror_mode": {
    "name": "ipython",
    "version": 2
   },
   "file_extension": ".py",
   "mimetype": "text/x-python",
   "name": "python",
   "nbconvert_exporter": "python",
   "pygments_lexer": "ipython2",
   "version": "2.7.11"
  }
 },
 "nbformat": 4,
 "nbformat_minor": 0
}
