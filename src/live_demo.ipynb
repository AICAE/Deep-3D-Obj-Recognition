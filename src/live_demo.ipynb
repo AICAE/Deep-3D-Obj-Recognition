{
 "cells": [
  {
   "cell_type": "markdown",
   "metadata": {},
   "source": [
    "# 3D Vision - CVG ETHZ\n",
    "## Object Recognition with Deep Neural Networks"
   ]
  },
  {
   "cell_type": "code",
   "execution_count": null,
   "metadata": {
    "collapsed": false
   },
   "outputs": [
    {
     "name": "stderr",
     "output_type": "stream",
     "text": [
      "Using Theano backend.\n"
     ]
    },
    {
     "name": "stdout",
     "output_type": "stream",
     "text": [
      "********************************************************************************\n",
      "WARNING: Imported VTK version (5.1) does not match the one used\n",
      "         to build the TVTK classes (5.8). This may cause problems.\n",
      "         Please rebuild TVTK.\n",
      "********************************************************************************\n",
      "\n"
     ]
    }
   ],
   "source": [
    "from recognizer_voxnet import load_pc, detector_voxnet\n",
    "import time\n",
    "from mayavi import mlab"
   ]
  },
  {
   "cell_type": "code",
   "execution_count": null,
   "metadata": {
    "collapsed": false
   },
   "outputs": [],
   "source": [
    "tic = time.time()\n",
    "obj_det = detector_voxnet(\"data/weights_modelnet40_acc0-8234_2016-5-20-3-47.h5\")\n",
    "tictoc = time.time() - tic\n",
    "print(\"loading the Detector took {0}\".format(tictoc))"
   ]
  },
  {
   "cell_type": "code",
   "execution_count": null,
   "metadata": {
    "collapsed": false
   },
   "outputs": [],
   "source": [
    "np_pc = load_pc(\"data/chairXYZ.mat\")\n",
    "mlab.points3d(np_pc[:,0], np_pc[:,1], np_pc[:,2])\n",
    "mlab.show()"
   ]
  },
  {
   "cell_type": "code",
   "execution_count": null,
   "metadata": {
    "collapsed": true
   },
   "outputs": [],
   "source": [
    "tic = time.time()\n",
    "np_vox = voxilize(np_pc)\n",
    "tictoc = time.time() - tic\n",
    "print(\"Voxelizing took {0} for {1} points\".format(tictoc, np_pc.shape[0]))\n",
    "\n",
    "mlab.points3d(np_vox[:,0], np_vox[:,1], np_vox[:,3], mode='cube')\n",
    "mlab.show"
   ]
  },
  {
   "cell_type": "code",
   "execution_count": null,
   "metadata": {
    "collapsed": true
   },
   "outputs": [],
   "source": [
    "tic = time.time()\n",
    "label = obj_det.predict(X_pred=np_vox)\n",
    "tictoc = time.time() - tic\n",
    "\n",
    "print(\"Detection took {0}\".format(tictoc))\n",
    "print(\"Wuee a \" + label + \" was detected\")"
   ]
  }
 ],
 "metadata": {
  "kernelspec": {
   "display_name": "Python 2",
   "language": "python",
   "name": "python2"
  },
  "language_info": {
   "codemirror_mode": {
    "name": "ipython",
    "version": 2
   },
   "file_extension": ".py",
   "mimetype": "text/x-python",
   "name": "python",
   "nbconvert_exporter": "python",
   "pygments_lexer": "ipython2",
   "version": "2.7.10"
  }
 },
 "nbformat": 4,
 "nbformat_minor": 0
}
